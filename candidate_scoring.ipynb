{
 "cells": [
  {
   "cell_type": "code",
   "execution_count": null,
   "id": "ecddb895-9207-45b0-9861-a0add3b32240",
   "metadata": {},
   "outputs": [],
   "source": [
    "import pandas as pd\n",
    "import numpy as np\n",
    "import jsonlines\n",
    "import gensim\n",
    "import nltk\n",
    "import re"
   ]
  },
  {
   "cell_type": "code",
   "execution_count": null,
   "id": "3e0f08f6-e1d8-405b-a05e-f0e38a63fca7",
   "metadata": {},
   "outputs": [],
   "source": [
    "from gensim.models.doc2vec import Doc2Vec, TaggedDocument\n",
    "from nltk.tokenize import word_tokenize\n",
    "nltk.download('punkt')"
   ]
  },
  {
   "cell_type": "markdown",
   "id": "2a91363b-bda7-41cf-af25-174c57c598c8",
   "metadata": {},
   "source": [
    "## Data Exploration"
   ]
  },
  {
   "cell_type": "code",
   "execution_count": null,
   "id": "e3d10bee-d91a-4907-8577-7b12e4e27306",
   "metadata": {},
   "outputs": [],
   "source": [
    "resume_df = pd.read_csv('gs://path-to-data')"
   ]
  },
  {
   "cell_type": "code",
   "execution_count": null,
   "id": "99d107b4-2db1-49f4-94e3-5d85ac57cbba",
   "metadata": {},
   "outputs": [],
   "source": [
    "resume_df.head()"
   ]
  },
  {
   "cell_type": "code",
   "execution_count": null,
   "id": "2cafe41e-f728-4339-9648-5ec111b29a06",
   "metadata": {},
   "outputs": [],
   "source": [
    "resume_df.rename(columns = {'ID':'candidate_id', 'Category': 'job_role', 'Resume_str': 'raw_resume_txt'}, inplace = True)\n",
    "resume_df.drop([\"Resume_html\"], axis=1, inplace=True)"
   ]
  },
  {
   "cell_type": "code",
   "execution_count": null,
   "id": "6e289540-e0b7-48b2-a39b-d9e4757a346b",
   "metadata": {},
   "outputs": [],
   "source": [
    "resume_df.head()"
   ]
  },
  {
   "cell_type": "code",
   "execution_count": null,
   "id": "751e01df-2c8a-417a-be73-22fd80dd78c9",
   "metadata": {},
   "outputs": [],
   "source": [
    "resume_df['job_role'].value_counts().plot(kind=\"bar\")"
   ]
  },
  {
   "cell_type": "markdown",
   "id": "1fc37890-8a47-4e72-8786-6c53a34b0bcf",
   "metadata": {},
   "source": [
    "## Feature Engineering/ Data Cleansing"
   ]
  },
  {
   "cell_type": "code",
   "execution_count": null,
   "id": "f05b3857-6299-46bc-83f0-f9809e8d62d3",
   "metadata": {},
   "outputs": [],
   "source": [
    "def clean_text(raw_text):\n",
    "    text = raw_text.lower()\n",
    "    text = re.sub('[\\n\\xa0]', '', text)\n",
    "    text = re.sub(' +', ' ', text)\n",
    "    text = re.sub(' , ', ' ', text)\n",
    "    text = re.sub('[,\\/|]', '', text)\n",
    "    return text"
   ]
  },
  {
   "cell_type": "code",
   "execution_count": null,
   "id": "98a0d0d5-8f2d-4759-a3d8-d31fe1480782",
   "metadata": {},
   "outputs": [],
   "source": [
    "# clean_text(resume_df[resume_df.candidate_id == 36856210][\"raw_resume_txt\"].values[0])"
   ]
  },
  {
   "cell_type": "code",
   "execution_count": null,
   "id": "1669fbc2-0578-42a9-a31e-264b42eb1e03",
   "metadata": {},
   "outputs": [],
   "source": [
    "resume_df[\"clean_resume\"] = resume_df.apply(lambda row: clean_text(row[\"raw_resume_txt\"]), axis=1)"
   ]
  },
  {
   "cell_type": "code",
   "execution_count": null,
   "id": "b440a65b-caa7-4bb5-a4fa-9ab885e4ad7b",
   "metadata": {},
   "outputs": [],
   "source": [
    "resume_df[\"candidate_id\"] = resume_df[\"candidate_id\"].astype(int)"
   ]
  },
  {
   "cell_type": "code",
   "execution_count": null,
   "id": "82f14170-cb6f-410e-9c99-a53a27d74153",
   "metadata": {},
   "outputs": [],
   "source": [
    "resume_df[\"tagged_doc\"] = resume_df.apply(\n",
    "    lambda row: TaggedDocument(\n",
    "        word_tokenize(row[\"clean_resume\"]), [row['candidate_id']]), \n",
    "    axis=1)"
   ]
  },
  {
   "cell_type": "code",
   "execution_count": null,
   "id": "95b6eb68-6de6-407e-91c5-ad645451600c",
   "metadata": {},
   "outputs": [],
   "source": [
    "resume_df.head()"
   ]
  },
  {
   "cell_type": "markdown",
   "id": "aac02fa8-55f1-44ef-93d0-cc3fa3c1f2f7",
   "metadata": {},
   "source": [
    "## Training Doc2Vec NLP model"
   ]
  },
  {
   "cell_type": "code",
   "execution_count": null,
   "id": "c6b2cd2d-5cda-4a17-a652-641d7304e133",
   "metadata": {},
   "outputs": [],
   "source": [
    "## Train doc2vec model\n",
    "find_candidates = Doc2Vec(list(resume_df[\"tagged_doc\"]), vector_size=25, window=2, min_count=1, workers=4, epochs = 100)\n",
    "# Save trained doc2vec model\n",
    "find_candidates.save(\"match_candidate.model\")\n",
    "## Load saved doc2vec model\n",
    "find_candidates = Doc2Vec.load(\"match_candidate.model\")"
   ]
  },
  {
   "cell_type": "markdown",
   "id": "1e857f80-84ec-49d4-8ab4-9bef406f0db1",
   "metadata": {},
   "source": [
    "## Find top suited candidates"
   ]
  },
  {
   "cell_type": "code",
   "execution_count": null,
   "id": "847f6481-2578-43ff-8faf-7788a497121c",
   "metadata": {},
   "outputs": [],
   "source": [
    "job_description = \"\""
   ]
  },
  {
   "cell_type": "code",
   "execution_count": null,
   "id": "de71b335-669e-4da2-a476-f7eaeab6a515",
   "metadata": {},
   "outputs": [],
   "source": [
    "jd = clean_text(job_description)\n",
    "jd_it = word_tokenize(jd)"
   ]
  },
  {
   "cell_type": "code",
   "execution_count": null,
   "id": "2f263de1-6384-45fa-bccb-f832695111fe",
   "metadata": {},
   "outputs": [],
   "source": [
    "# find_candidates.docvecs.most_similar(positive=[find_candidates.infer_vector(jd_it)],topn=5)"
   ]
  },
  {
   "cell_type": "code",
   "execution_count": null,
   "id": "51a6d74e-4e66-455a-85ff-e2d3eab40ed3",
   "metadata": {},
   "outputs": [],
   "source": []
  }
 ],
 "metadata": {
  "environment": {
   "kernel": "python3",
   "name": "tf2-gpu.2-8.m90",
   "type": "gcloud",
   "uri": "gcr.io/deeplearning-platform-release/tf2-gpu.2-8:m90"
  },
  "kernelspec": {
   "display_name": "Python 3",
   "language": "python",
   "name": "python3"
  },
  "language_info": {
   "codemirror_mode": {
    "name": "ipython",
    "version": 3
   },
   "file_extension": ".py",
   "mimetype": "text/x-python",
   "name": "python",
   "nbconvert_exporter": "python",
   "pygments_lexer": "ipython3",
   "version": "3.7.12"
  }
 },
 "nbformat": 4,
 "nbformat_minor": 5
}
